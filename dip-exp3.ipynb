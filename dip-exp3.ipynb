{
 "cells": [
  {
   "cell_type": "code",
   "execution_count": 1,
   "id": "e89b39b1",
   "metadata": {},
   "outputs": [],
   "source": [
    "#import necessory pakages\n",
    "import cv2"
   ]
  },
  {
   "cell_type": "code",
   "execution_count": 2,
   "id": "44fb000b",
   "metadata": {},
   "outputs": [],
   "source": [
    "#read \n",
    "img= cv2.imread('taj.jpg',1)"
   ]
  },
  {
   "cell_type": "code",
   "execution_count": 3,
   "id": "4507dca8",
   "metadata": {},
   "outputs": [],
   "source": [
    "#BGR_2_HSV\n",
    "cv2.imshow('Original',img)\n",
    "hsvimg=cv2.cvtColor(img,cv2.COLOR_BGR2HSV)\n",
    "cv2.imshow('BGR-hsv',hsvimg)\n",
    "cv2.waitKey(0)\n",
    "cv2.destroyAllWindows()"
   ]
  },
  {
   "cell_type": "code",
   "execution_count": 4,
   "id": "bde03ef3",
   "metadata": {},
   "outputs": [],
   "source": [
    "#RGB_2_HSV\n",
    "cv2.imshow('Original',img)\n",
    "hsvimg1=cv2.cvtColor(img,cv2.COLOR_RGB2HSV)\n",
    "cv2.imshow('RGB-hsv',hsvimg1)\n",
    "cv2.waitKey(0)\n",
    "cv2.destroyAllWindows()"
   ]
  },
  {
   "cell_type": "code",
   "execution_count": 5,
   "id": "544c3611",
   "metadata": {},
   "outputs": [],
   "source": [
    "#RGB2GRAY\n",
    "cv2.imshow('Original',img)\n",
    "gray=cv2.cvtColor(img,cv2.COLOR_RGB2GRAY)\n",
    "cv2.imshow('gray-RGB',gray)\n",
    "cv2.waitKey(0)\n",
    "cv2.destroyAllWindows()"
   ]
  },
  {
   "cell_type": "code",
   "execution_count": 6,
   "id": "869b1909",
   "metadata": {},
   "outputs": [],
   "source": [
    "#BGR2GRAY\n",
    "cv2.imshow('Original',img)\n",
    "gray1=cv2.cvtColor(img,cv2.COLOR_BGR2GRAY)\n",
    "cv2.imshow('gray-BGR',gray1)\n",
    "cv2.waitKey(0)\n",
    "cv2.destroyAllWindows()"
   ]
  },
  {
   "cell_type": "code",
   "execution_count": 7,
   "id": "6bbbe1dd",
   "metadata": {},
   "outputs": [],
   "source": [
    "#HSV TO RGB\n",
    "cv2.imshow('HSV',hsvimg)\n",
    "rgb_img=cv2.cvtColor(hsvimg,cv2.COLOR_HSV2RGB)\n",
    "cv2.imshow('hsv2rgb',rgb_img)\n",
    "cv2.waitKey(0)\n",
    "cv2.destroyAllWindows()"
   ]
  },
  {
   "cell_type": "code",
   "execution_count": 9,
   "id": "ab87cf23",
   "metadata": {},
   "outputs": [],
   "source": [
    "#HSV TO BGR\n",
    "cv2.imshow('HSV',hsvimg)\n",
    "bgr_img=cv2.cvtColor(img,cv2.COLOR_HSV2BGR)\n",
    "cv2.imshow('hsv2bgr',bgr_img)\n",
    "cv2.waitKey(0)\n",
    "cv2.destroyAllWindows()"
   ]
  },
  {
   "cell_type": "code",
   "execution_count": 11,
   "id": "64785459",
   "metadata": {},
   "outputs": [],
   "source": [
    "#RGB to YCrCb\n",
    "cv2.imshow('Original',img)\n",
    "YCrCb_image = cv2.cvtColor(img, cv2.COLOR_RGB2YCrCb)\n",
    "cv2.imshow('RGB_YCRCB',YCrCb_image)\n",
    "cv2.waitKey(0)\n",
    "cv2.destroyAllWindows()"
   ]
  },
  {
   "cell_type": "code",
   "execution_count": null,
   "id": "59ddfe62",
   "metadata": {},
   "outputs": [],
   "source": [
    "#BGR to YCrCb\n",
    "cv2.imshow('Original',img)\n",
    "YCrCb_image = cv2.cvtColor(img, cv2.COLOR_BGR2YCrCb)\n",
    "cv2.imshow('BGR_YCRCB',YCrCb_image)\n",
    "cv2.waitKey(0)\n",
    "cv2.destroyAllWindows()"
   ]
  },
  {
   "cell_type": "code",
   "execution_count": 1,
   "id": "875d5c3d",
   "metadata": {},
   "outputs": [],
   "source": [
    "# SPLIT AND MERGE RGB IMAGE\n",
    "import cv2\n",
    "img=cv2.imread('eiffel.jfif')\n",
    "blue=img[:,:,0]\n",
    "green=img[:,:,1]\n",
    "red=img[:,:,2]\n",
    "cv2.imshow('B-Channel',blue)\n",
    "cv2.imshow('G-Channel',green)\n",
    "cv2.imshow('R-Channel',red)\n",
    "merged_BGR=cv2.merge((blue,green,red))\n",
    "cv2.imshow('Merged BGR Image',merged_BGR)\n",
    "cv2.waitKey(0)\n",
    "cv2.destroyAllWindows()"
   ]
  },
  {
   "cell_type": "code",
   "execution_count": null,
   "id": "39ea9cfc",
   "metadata": {},
   "outputs": [],
   "source": [
    "# SPLIT AND MERGE HSV IMAGE\n",
    "hsv = cv2.cvtColor(img, cv2.COLOR_BGR2HSV)\n",
    "h,s,v=cv2.split(hsv)\n",
    "cv2.imshow(\"Hue-image\",h)\n",
    "cv2.imshow(\"Saturation-image\",s)\n",
    "cv2.imshow(\"Gray-image\",v)\n",
    "Merged_HSV=cv2.merge((h,s,v))\n",
    "cv2.imshow('Merged HSV Image',Merged_HSV)\n",
    "cv2.waitKey(0)\n",
    "cv2.destoryAllWindows()"
   ]
  }
 ],
 "metadata": {
  "kernelspec": {
   "display_name": "Python 3 (ipykernel)",
   "language": "python",
   "name": "python3"
  },
  "language_info": {
   "codemirror_mode": {
    "name": "ipython",
    "version": 3
   },
   "file_extension": ".py",
   "mimetype": "text/x-python",
   "name": "python",
   "nbconvert_exporter": "python",
   "pygments_lexer": "ipython3",
   "version": "3.9.13"
  }
 },
 "nbformat": 4,
 "nbformat_minor": 5
}
